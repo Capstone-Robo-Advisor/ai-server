{
 "cells": [
  {
   "metadata": {
    "ExecuteTime": {
     "end_time": "2025-03-15T09:24:33.483059Z",
     "start_time": "2025-03-15T09:24:32.772134Z"
    }
   },
   "cell_type": "code",
   "source": [
    "# DESC : This progrma attempts to optimize a users portfolio using the Efficient Frontier & Python\n",
    "# Import the python lib\n",
    "\n",
    "import FinanceDataReader as fdr\n",
    "import pandas as pd\n",
    "import numpy as np\n",
    "from datetime import datetime\n",
    "import matplotlib.pyplot as plt\n",
    "plt.style.use('fivethirtyeight')"
   ],
   "id": "eff1a4b1808416af",
   "outputs": [],
   "execution_count": 1
  },
  {
   "metadata": {
    "ExecuteTime": {
     "end_time": "2025-03-15T09:24:47.983108Z",
     "start_time": "2025-03-15T09:24:47.973689Z"
    }
   },
   "cell_type": "code",
   "source": [
    "# 가상 포트폴리오 만들기\n",
    "# 엔비디아, GLD ETF, QQQ, SPY, 애플\n",
    "assets = [\"NVDA\", \"GLD\", \"QQQ\", \"SPY\", \"AAPL\"]\n",
    "\n",
    "# Assign weights to the stocks.\n",
    "# weights = np.full(len(assets), 1 / len(assets))  # np.full() 활용\n",
    "# weights = [0.6, 0.12, 0.11, 0.15, 0.003]\n",
    "weights = np.array([0.6, 0.12, 0.11, 0.15, 0.003])\n",
    "weights"
   ],
   "id": "3a44b7d1ac1160c8",
   "outputs": [
    {
     "data": {
      "text/plain": [
       "array([0.6  , 0.12 , 0.11 , 0.15 , 0.003])"
      ]
     },
     "execution_count": 2,
     "metadata": {},
     "output_type": "execute_result"
    }
   ],
   "execution_count": 2
  },
  {
   "metadata": {
    "ExecuteTime": {
     "end_time": "2025-03-15T09:24:58.382964Z",
     "start_time": "2025-03-15T09:24:58.376119Z"
    }
   },
   "cell_type": "code",
   "source": [
    "# 주식 시작일 2013/1/1\n",
    "stockStartDate = '2013-01-01'\n",
    "\n",
    "# 주식 종료일\n",
    "today = datetime.today().strftime(\"%Y-%m-%d\")"
   ],
   "id": "94bd97de1b3085a",
   "outputs": [],
   "execution_count": 3
  },
  {
   "metadata": {
    "ExecuteTime": {
     "end_time": "2025-03-15T09:25:18.120977Z",
     "start_time": "2025-03-15T09:25:12.760752Z"
    }
   },
   "cell_type": "code",
   "source": [
    "# 각 주식의 일별 종가 데이터를 저장할 데이터 프레임 생성\n",
    "def fetch_data(assets: list, start_dt: str, end_dt: str) -> pd.DataFrame:\n",
    "    closes = []  # 종가 데이터를 저장할 리스트\n",
    "\n",
    "    for ticker in assets:\n",
    "        # 주가 데이터 불러오기\n",
    "        fetched_df = fdr.DataReader(ticker, start=start_dt, end=end_dt)\n",
    "\n",
    "        # 'Date' 컬럼을 인덱스로 설정하고, 종가만 남기기\n",
    "        history_df = pd.DataFrame({\n",
    "            'Date': fetched_df.index,\n",
    "            ticker: fetched_df['Close']\n",
    "        })\n",
    "        history_df.set_index('Date', drop=True, inplace=True)\n",
    "\n",
    "        # 종가 데이터 추가\n",
    "        closes.append(history_df)\n",
    "\n",
    "    # 여러 종목의 종가 데이터를 하나의 DataFrame으로 합치기\n",
    "    closes = pd.concat(closes, axis=1)\n",
    "\n",
    "    # 결측치(NaN) 제거\n",
    "    closes.dropna(inplace=True)\n",
    "\n",
    "    return closes\n",
    "\n",
    "# Store the adjusted close price of stock into the data frame\n",
    "df = fetch_data(assets=assets, start_dt = stockStartDate, end_dt = today)\n",
    "df"
   ],
   "id": "45724ae3d3c1923a",
   "outputs": [
    {
     "data": {
      "text/plain": [
       "                  NVDA         GLD         QQQ         SPY        AAPL\n",
       "Date                                                                  \n",
       "2012-12-31    0.306500  162.020004   65.129997  142.410004   19.006071\n",
       "2013-01-02    0.318000  163.169998   67.199997  146.059998   19.608213\n",
       "2013-01-03    0.318250  161.199997   66.849998  145.729996   19.360714\n",
       "2013-01-04    0.328750  160.440002   66.629997  146.369995   18.821428\n",
       "2013-01-07    0.319250  159.429993   66.650002  145.970001   18.710714\n",
       "...                ...         ...         ...         ...         ...\n",
       "2025-03-10  106.980003  266.040009  472.730011  560.580017  227.479996\n",
       "2025-03-11  108.760002  269.160004  471.600006  555.919983  220.839996\n",
       "2025-03-12  115.739998  270.329987  476.920013  558.869995  216.979996\n",
       "2025-03-13  115.580002  275.130005  468.339996  551.419983  209.679993\n",
       "2025-03-14  121.669998  275.239990  479.660004  562.809998  213.490005\n",
       "\n",
       "[3070 rows x 5 columns]"
      ],
      "text/html": [
       "<div>\n",
       "<style scoped>\n",
       "    .dataframe tbody tr th:only-of-type {\n",
       "        vertical-align: middle;\n",
       "    }\n",
       "\n",
       "    .dataframe tbody tr th {\n",
       "        vertical-align: top;\n",
       "    }\n",
       "\n",
       "    .dataframe thead th {\n",
       "        text-align: right;\n",
       "    }\n",
       "</style>\n",
       "<table border=\"1\" class=\"dataframe\">\n",
       "  <thead>\n",
       "    <tr style=\"text-align: right;\">\n",
       "      <th></th>\n",
       "      <th>NVDA</th>\n",
       "      <th>GLD</th>\n",
       "      <th>QQQ</th>\n",
       "      <th>SPY</th>\n",
       "      <th>AAPL</th>\n",
       "    </tr>\n",
       "    <tr>\n",
       "      <th>Date</th>\n",
       "      <th></th>\n",
       "      <th></th>\n",
       "      <th></th>\n",
       "      <th></th>\n",
       "      <th></th>\n",
       "    </tr>\n",
       "  </thead>\n",
       "  <tbody>\n",
       "    <tr>\n",
       "      <th>2012-12-31</th>\n",
       "      <td>0.306500</td>\n",
       "      <td>162.020004</td>\n",
       "      <td>65.129997</td>\n",
       "      <td>142.410004</td>\n",
       "      <td>19.006071</td>\n",
       "    </tr>\n",
       "    <tr>\n",
       "      <th>2013-01-02</th>\n",
       "      <td>0.318000</td>\n",
       "      <td>163.169998</td>\n",
       "      <td>67.199997</td>\n",
       "      <td>146.059998</td>\n",
       "      <td>19.608213</td>\n",
       "    </tr>\n",
       "    <tr>\n",
       "      <th>2013-01-03</th>\n",
       "      <td>0.318250</td>\n",
       "      <td>161.199997</td>\n",
       "      <td>66.849998</td>\n",
       "      <td>145.729996</td>\n",
       "      <td>19.360714</td>\n",
       "    </tr>\n",
       "    <tr>\n",
       "      <th>2013-01-04</th>\n",
       "      <td>0.328750</td>\n",
       "      <td>160.440002</td>\n",
       "      <td>66.629997</td>\n",
       "      <td>146.369995</td>\n",
       "      <td>18.821428</td>\n",
       "    </tr>\n",
       "    <tr>\n",
       "      <th>2013-01-07</th>\n",
       "      <td>0.319250</td>\n",
       "      <td>159.429993</td>\n",
       "      <td>66.650002</td>\n",
       "      <td>145.970001</td>\n",
       "      <td>18.710714</td>\n",
       "    </tr>\n",
       "    <tr>\n",
       "      <th>...</th>\n",
       "      <td>...</td>\n",
       "      <td>...</td>\n",
       "      <td>...</td>\n",
       "      <td>...</td>\n",
       "      <td>...</td>\n",
       "    </tr>\n",
       "    <tr>\n",
       "      <th>2025-03-10</th>\n",
       "      <td>106.980003</td>\n",
       "      <td>266.040009</td>\n",
       "      <td>472.730011</td>\n",
       "      <td>560.580017</td>\n",
       "      <td>227.479996</td>\n",
       "    </tr>\n",
       "    <tr>\n",
       "      <th>2025-03-11</th>\n",
       "      <td>108.760002</td>\n",
       "      <td>269.160004</td>\n",
       "      <td>471.600006</td>\n",
       "      <td>555.919983</td>\n",
       "      <td>220.839996</td>\n",
       "    </tr>\n",
       "    <tr>\n",
       "      <th>2025-03-12</th>\n",
       "      <td>115.739998</td>\n",
       "      <td>270.329987</td>\n",
       "      <td>476.920013</td>\n",
       "      <td>558.869995</td>\n",
       "      <td>216.979996</td>\n",
       "    </tr>\n",
       "    <tr>\n",
       "      <th>2025-03-13</th>\n",
       "      <td>115.580002</td>\n",
       "      <td>275.130005</td>\n",
       "      <td>468.339996</td>\n",
       "      <td>551.419983</td>\n",
       "      <td>209.679993</td>\n",
       "    </tr>\n",
       "    <tr>\n",
       "      <th>2025-03-14</th>\n",
       "      <td>121.669998</td>\n",
       "      <td>275.239990</td>\n",
       "      <td>479.660004</td>\n",
       "      <td>562.809998</td>\n",
       "      <td>213.490005</td>\n",
       "    </tr>\n",
       "  </tbody>\n",
       "</table>\n",
       "<p>3070 rows × 5 columns</p>\n",
       "</div>"
      ]
     },
     "execution_count": 4,
     "metadata": {},
     "output_type": "execute_result"
    }
   ],
   "execution_count": 4
  },
  {
   "metadata": {
    "ExecuteTime": {
     "end_time": "2025-03-15T09:26:01.567520Z",
     "start_time": "2025-03-15T09:26:01.444595Z"
    }
   },
   "cell_type": "code",
   "source": [
    "# 그래프 제목 설정\n",
    "title = 'Portfolio Close Price History'\n",
    "\n",
    "# Get the stocks\n",
    "my_stocks = df\n",
    "\n",
    "# Create and plot the graph\n",
    "plt.figure(figsize=(12.2, 4.5))  # 가로 12.2인치, 세로 4.5인치\n",
    "\n",
    "# Loop through each stock and plot the Adj Close for each day\n",
    "# 각 주식 종목의 종가 데이터 플로팅\n",
    "for c in my_stocks.columns.values:\n",
    "    plt.plot(my_stocks[c], label=c)  # 각 주식의 종가 플로팅\n",
    "\n",
    "# 그래프 스타일 설정\n",
    "plt.title(title)\n",
    "plt.xlabel('Date', fontsize=18)\n",
    "plt.ylabel('Close Price USD ($)', fontsize=18)\n",
    "plt.legend(df.columns.values, loc='upper left')\n",
    "plt.show()"
   ],
   "id": "cc512bfe7d61ebdf",
   "outputs": [
    {
     "data": {
      "text/plain": [
       "<Figure size 1220x450 with 1 Axes>"
      ],
      "image/png": "[encoded data removed]"
     },
     "metadata": {},
     "output_type": "display_data"
    }
   ],
   "execution_count": 5
  },
  {
   "metadata": {
    "ExecuteTime": {
     "end_time": "2025-03-15T09:26:16.336100Z",
     "start_time": "2025-03-15T09:26:16.320128Z"
    }
   },
   "cell_type": "code",
   "source": [
    "# show the daily simple returns, NOTE : Fomula = new_price/old_price - 1\n",
    "returns = df.pct_change()\n",
    "returns"
   ],
   "id": "cf9ce664f12e6966",
   "outputs": [
    {
     "data": {
      "text/plain": [
       "                NVDA       GLD       QQQ       SPY      AAPL\n",
       "Date                                                        \n",
       "2012-12-31       NaN       NaN       NaN       NaN       NaN\n",
       "2013-01-02  0.037520  0.007098  0.031783  0.025630  0.031682\n",
       "2013-01-03  0.000786 -0.012073 -0.005208 -0.002259 -0.012622\n",
       "2013-01-04  0.032993 -0.004715 -0.003291  0.004392 -0.027855\n",
       "2013-01-07 -0.028897 -0.006295  0.000300 -0.002733 -0.005882\n",
       "...              ...       ...       ...       ...       ...\n",
       "2025-03-10 -0.050670 -0.008756 -0.038756 -0.026636 -0.048480\n",
       "2025-03-11  0.016639  0.011728 -0.002390 -0.008313 -0.029189\n",
       "2025-03-12  0.064178  0.004347  0.011281  0.005307 -0.017479\n",
       "2025-03-13 -0.001382  0.017756 -0.017990 -0.013330 -0.033644\n",
       "2025-03-14  0.052691  0.000400  0.024170  0.020656  0.018171\n",
       "\n",
       "[3070 rows x 5 columns]"
      ],
      "text/html": [
       "<div>\n",
       "<style scoped>\n",
       "    .dataframe tbody tr th:only-of-type {\n",
       "        vertical-align: middle;\n",
       "    }\n",
       "\n",
       "    .dataframe tbody tr th {\n",
       "        vertical-align: top;\n",
       "    }\n",
       "\n",
       "    .dataframe thead th {\n",
       "        text-align: right;\n",
       "    }\n",
       "</style>\n",
       "<table border=\"1\" class=\"dataframe\">\n",
       "  <thead>\n",
       "    <tr style=\"text-align: right;\">\n",
       "      <th></th>\n",
       "      <th>NVDA</th>\n",
       "      <th>GLD</th>\n",
       "      <th>QQQ</th>\n",
       "      <th>SPY</th>\n",
       "      <th>AAPL</th>\n",
       "    </tr>\n",
       "    <tr>\n",
       "      <th>Date</th>\n",
       "      <th></th>\n",
       "      <th></th>\n",
       "      <th></th>\n",
       "      <th></th>\n",
       "      <th></th>\n",
       "    </tr>\n",
       "  </thead>\n",
       "  <tbody>\n",
       "    <tr>\n",
       "      <th>2012-12-31</th>\n",
       "      <td>NaN</td>\n",
       "      <td>NaN</td>\n",
       "      <td>NaN</td>\n",
       "      <td>NaN</td>\n",
       "      <td>NaN</td>\n",
       "    </tr>\n",
       "    <tr>\n",
       "      <th>2013-01-02</th>\n",
       "      <td>0.037520</td>\n",
       "      <td>0.007098</td>\n",
       "      <td>0.031783</td>\n",
       "      <td>0.025630</td>\n",
       "      <td>0.031682</td>\n",
       "    </tr>\n",
       "    <tr>\n",
       "      <th>2013-01-03</th>\n",
       "      <td>0.000786</td>\n",
       "      <td>-0.012073</td>\n",
       "      <td>-0.005208</td>\n",
       "      <td>-0.002259</td>\n",
       "      <td>-0.012622</td>\n",
       "    </tr>\n",
       "    <tr>\n",
       "      <th>2013-01-04</th>\n",
       "      <td>0.032993</td>\n",
       "      <td>-0.004715</td>\n",
       "      <td>-0.003291</td>\n",
       "      <td>0.004392</td>\n",
       "      <td>-0.027855</td>\n",
       "    </tr>\n",
       "    <tr>\n",
       "      <th>2013-01-07</th>\n",
       "      <td>-0.028897</td>\n",
       "      <td>-0.006295</td>\n",
       "      <td>0.000300</td>\n",
       "      <td>-0.002733</td>\n",
       "      <td>-0.005882</td>\n",
       "    </tr>\n",
       "    <tr>\n",
       "      <th>...</th>\n",
       "      <td>...</td>\n",
       "      <td>...</td>\n",
       "      <td>...</td>\n",
       "      <td>...</td>\n",
       "      <td>...</td>\n",
       "    </tr>\n",
       "    <tr>\n",
       "      <th>2025-03-10</th>\n",
       "      <td>-0.050670</td>\n",
       "      <td>-0.008756</td>\n",
       "      <td>-0.038756</td>\n",
       "      <td>-0.026636</td>\n",
       "      <td>-0.048480</td>\n",
       "    </tr>\n",
       "    <tr>\n",
       "      <th>2025-03-11</th>\n",
       "      <td>0.016639</td>\n",
       "      <td>0.011728</td>\n",
       "      <td>-0.002390</td>\n",
       "      <td>-0.008313</td>\n",
       "      <td>-0.029189</td>\n",
       "    </tr>\n",
       "    <tr>\n",
       "      <th>2025-03-12</th>\n",
       "      <td>0.064178</td>\n",
       "      <td>0.004347</td>\n",
       "      <td>0.011281</td>\n",
       "      <td>0.005307</td>\n",
       "      <td>-0.017479</td>\n",
       "    </tr>\n",
       "    <tr>\n",
       "      <th>2025-03-13</th>\n",
       "      <td>-0.001382</td>\n",
       "      <td>0.017756</td>\n",
       "      <td>-0.017990</td>\n",
       "      <td>-0.013330</td>\n",
       "      <td>-0.033644</td>\n",
       "    </tr>\n",
       "    <tr>\n",
       "      <th>2025-03-14</th>\n",
       "      <td>0.052691</td>\n",
       "      <td>0.000400</td>\n",
       "      <td>0.024170</td>\n",
       "      <td>0.020656</td>\n",
       "      <td>0.018171</td>\n",
       "    </tr>\n",
       "  </tbody>\n",
       "</table>\n",
       "<p>3070 rows × 5 columns</p>\n",
       "</div>"
      ]
     },
     "execution_count": 6,
     "metadata": {},
     "output_type": "execute_result"
    }
   ],
   "execution_count": 6
  },
  {
   "metadata": {
    "ExecuteTime": {
     "end_time": "2025-03-15T09:26:40.136868Z",
     "start_time": "2025-03-15T09:26:40.113168Z"
    }
   },
   "cell_type": "code",
   "source": [
    "# 연간 공분산 행렬을 계산하고 출력\n",
    "# NOTE : 공분산 행렬 -> 서로 다른 모집단의 데이터 샘플을 비교할 때 통계에서 일반적으로 사용되는 수학적 개념\n",
    "# 공분산 행렬을 통해 두 자산 가격간의 방향 관계 알아낼 수 있음\n",
    "cov_matrix_annual = returns.cov() * 252\n",
    "cov_matrix_annual"
   ],
   "id": "34f5d1a97bd17f98",
   "outputs": [
    {
     "data": {
      "text/plain": [
       "          NVDA       GLD       QQQ       SPY      AAPL\n",
       "NVDA  0.210829  0.001601  0.068359  0.048202  0.063464\n",
       "GLD   0.001601  0.022309  0.001512  0.001036  0.001549\n",
       "QQQ   0.068359  0.001512  0.042671  0.032114  0.044535\n",
       "SPY   0.048202  0.001036  0.032114  0.028137  0.032738\n",
       "AAPL  0.063464  0.001549  0.044535  0.032738  0.078446"
      ],
      "text/html": [
       "<div>\n",
       "<style scoped>\n",
       "    .dataframe tbody tr th:only-of-type {\n",
       "        vertical-align: middle;\n",
       "    }\n",
       "\n",
       "    .dataframe tbody tr th {\n",
       "        vertical-align: top;\n",
       "    }\n",
       "\n",
       "    .dataframe thead th {\n",
       "        text-align: right;\n",
       "    }\n",
       "</style>\n",
       "<table border=\"1\" class=\"dataframe\">\n",
       "  <thead>\n",
       "    <tr style=\"text-align: right;\">\n",
       "      <th></th>\n",
       "      <th>NVDA</th>\n",
       "      <th>GLD</th>\n",
       "      <th>QQQ</th>\n",
       "      <th>SPY</th>\n",
       "      <th>AAPL</th>\n",
       "    </tr>\n",
       "  </thead>\n",
       "  <tbody>\n",
       "    <tr>\n",
       "      <th>NVDA</th>\n",
       "      <td>0.210829</td>\n",
       "      <td>0.001601</td>\n",
       "      <td>0.068359</td>\n",
       "      <td>0.048202</td>\n",
       "      <td>0.063464</td>\n",
       "    </tr>\n",
       "    <tr>\n",
       "      <th>GLD</th>\n",
       "      <td>0.001601</td>\n",
       "      <td>0.022309</td>\n",
       "      <td>0.001512</td>\n",
       "      <td>0.001036</td>\n",
       "      <td>0.001549</td>\n",
       "    </tr>\n",
       "    <tr>\n",
       "      <th>QQQ</th>\n",
       "      <td>0.068359</td>\n",
       "      <td>0.001512</td>\n",
       "      <td>0.042671</td>\n",
       "      <td>0.032114</td>\n",
       "      <td>0.044535</td>\n",
       "    </tr>\n",
       "    <tr>\n",
       "      <th>SPY</th>\n",
       "      <td>0.048202</td>\n",
       "      <td>0.001036</td>\n",
       "      <td>0.032114</td>\n",
       "      <td>0.028137</td>\n",
       "      <td>0.032738</td>\n",
       "    </tr>\n",
       "    <tr>\n",
       "      <th>AAPL</th>\n",
       "      <td>0.063464</td>\n",
       "      <td>0.001549</td>\n",
       "      <td>0.044535</td>\n",
       "      <td>0.032738</td>\n",
       "      <td>0.078446</td>\n",
       "    </tr>\n",
       "  </tbody>\n",
       "</table>\n",
       "</div>"
      ]
     },
     "execution_count": 7,
     "metadata": {},
     "output_type": "execute_result"
    }
   ],
   "execution_count": 7
  },
  {
   "metadata": {
    "ExecuteTime": {
     "end_time": "2025-03-15T09:26:48.969401Z",
     "start_time": "2025-03-15T09:26:48.965786Z"
    }
   },
   "cell_type": "code",
   "source": [
    "# 포트폴리오 분산의 기대값 = WT * (공분산 행렬) * W\n",
    "port_variance = np.dot(weights.T, np.dot(cov_matrix_annual, weights))\n",
    "port_variance"
   ],
   "id": "eccee414d622264c",
   "outputs": [
    {
     "data": {
      "text/plain": [
       "0.09672546980284871"
      ]
     },
     "execution_count": 8,
     "metadata": {},
     "output_type": "execute_result"
    }
   ],
   "execution_count": 8
  },
  {
   "metadata": {
    "ExecuteTime": {
     "end_time": "2025-03-15T09:26:57.237499Z",
     "start_time": "2025-03-15T09:26:57.229415Z"
    }
   },
   "cell_type": "code",
   "source": [
    "# 포트폴리오 변동성의 기대값 = SQRT (WT * (공분산 매트릭스) * W)\n",
    "port_volatility = np.sqrt(port_variance)\n",
    "port_volatility"
   ],
   "id": "12d7ec1e56d70e31",
   "outputs": [
    {
     "data": {
      "text/plain": [
       "0.3110071860951909"
      ]
     },
     "execution_count": 9,
     "metadata": {},
     "output_type": "execute_result"
    }
   ],
   "execution_count": 9
  },
  {
   "metadata": {
    "ExecuteTime": {
     "end_time": "2025-03-15T09:27:06.554766Z",
     "start_time": "2025-03-15T09:27:06.542882Z"
    }
   },
   "cell_type": "code",
   "source": [
    "# 포트폴리오의 연간 수익률 계산하고 출력\n",
    "portfolioSimpleAnnualReturn = np.sum(returns.mean()*weights) * 252\n",
    "portfolioSimpleAnnualReturn"
   ],
   "id": "127517fb066bc37e",
   "outputs": [
    {
     "data": {
      "text/plain": [
       "0.404490315285619"
      ]
     },
     "execution_count": 10,
     "metadata": {},
     "output_type": "execute_result"
    }
   ],
   "execution_count": 10
  },
  {
   "metadata": {
    "ExecuteTime": {
     "end_time": "2025-03-15T09:27:12.916311Z",
     "start_time": "2025-03-15T09:27:12.907871Z"
    }
   },
   "cell_type": "code",
   "source": [
    "# 예상되는 연간 수익, 변동성 또는 위험 및 분산\n",
    "percent_var = str(round(port_variance, 2) * 100) + '%'\n",
    "percent_vols = str(round(port_volatility, 2) * 100) + '%'\n",
    "percent_ret = str(round(portfolioSimpleAnnualReturn, 2) * 100) + '%'\n",
    "\n",
    "print(\"Expected annual return : \" + percent_ret)\n",
    "print(\"Annual volatility/standard deviation/risk : \" + percent_vols)\n",
    "print(\"Annual variance : \" +percent_var)"
   ],
   "id": "6d9c5f1e5cf8da43",
   "outputs": [
    {
     "name": "stdout",
     "output_type": "stream",
     "text": [
      "Expected annual return : 40.0%\n",
      "Annual volatility/standard deviation/risk : 31.0%\n",
      "Annual variance : 10.0%\n"
     ]
    }
   ],
   "execution_count": 11
  },
  {
   "metadata": {
    "ExecuteTime": {
     "end_time": "2025-03-15T09:28:21.410677Z",
     "start_time": "2025-03-15T09:28:20.826413Z"
    }
   },
   "cell_type": "code",
   "source": [
    "# 포트폴리오 최적화\n",
    "# 최소한의 위험으로, 최대 수익 실현 -> Robert Ansrew Martin 이 만든 패키지 사용\n",
    "# pyportfolioopt 라는 패키지 이용\n",
    "\n",
    "from pypfopt.efficient_frontier import EfficientFrontier\n",
    "from pypfopt import risk_models\n",
    "from pypfopt import expected_returns\n",
    "\n",
    "# 예상 수익률과 일일 자산 수익률의 연간 표본 공분산 행렬 계산\n",
    "mu = expected_returns.mean_historical_return(df)\n",
    "S = risk_models.sample_cov(df)\n",
    "\n",
    "ef = EfficientFrontier(mu, S)\n",
    "weights = ef.max_sharpe()  # Sharpe ratio, and get the raw weights\n",
    "\n",
    "cleaned_weights = ef.clean_weights()\n",
    "\n",
    "# Note the weights may have some round error, meaning they may not add up exactly to 1 but should be close\n",
    "print(cleaned_weights)\n",
    "\n",
    "ef.portfolio_performance(verbose=True)"
   ],
   "id": "3904204a4fa47e14",
   "outputs": [
    {
     "name": "stdout",
     "output_type": "stream",
     "text": [
      "OrderedDict({'NVDA': 0.56423, 'GLD': 0.34657, 'QQQ': 0.0, 'SPY': 0.0, 'AAPL': 0.08921})\n",
      "Expected annual return: 39.3%\n",
      "Annual volatility: 27.8%\n",
      "Sharpe Ratio: 1.41\n"
     ]
    },
    {
     "data": {
      "text/plain": [
       "(0.3930196932212443, 0.27844619962769634, 1.411474438317856)"
      ]
     },
     "execution_count": 12,
     "metadata": {},
     "output_type": "execute_result"
    }
   ],
   "execution_count": 12
  },
  {
   "metadata": {
    "ExecuteTime": {
     "end_time": "2025-03-15T09:28:57.776697Z",
     "start_time": "2025-03-15T09:28:57.755286Z"
    }
   },
   "cell_type": "code",
   "source": [
    "from pypfopt.discrete_allocation import DiscreteAllocation, get_latest_prices\n",
    "\n",
    "latest_prices = get_latest_prices(df)\n",
    "weights = cleaned_weights\n",
    "\n",
    "# 만약 15000 달러를 투자한다고 하면 아래의 결과와 같이 엔비디아 : 69주, GLD ETF : 19주, 애플 : 6주 투자\n",
    "# 남은돈 94.27$\n",
    "da = DiscreteAllocation(weights, latest_prices, total_portfolio_value = 15000)\n",
    "allocation, leftover = da.lp_portfolio()\n",
    "\n",
    "print(\"Discrete allocation : \", allocation)\n",
    "print(\"Funds remaining : ${:.2f}\".format(leftover))"
   ],
   "id": "b3189bf8b7dc5493",
   "outputs": [
    {
     "name": "stdout",
     "output_type": "stream",
     "text": [
      "Discrete allocation :  {'NVDA': 69, 'GLD': 19, 'AAPL': 6}\n",
      "Funds remaining : $94.27\n"
     ]
    }
   ],
   "execution_count": 13
  },
  {
   "metadata": {},
   "cell_type": "markdown",
   "source": [
    "# 그래서 우리 프로젝트의 목적\n",
    "\n",
    "1. 사용자가 주식을 담는다. ->\n"
   ],
   "id": "833f53ed0a23c48a"
  }
 ],
 "metadata": {
  "kernelspec": {
   "name": "python3",
   "language": "python",
   "display_name": "Python 3 (ipykernel)"
  }
 },
 "nbformat": 5,
 "nbformat_minor": 9
}
